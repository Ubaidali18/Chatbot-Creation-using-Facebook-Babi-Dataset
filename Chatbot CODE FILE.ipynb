{
 "cells": [
  {
   "cell_type": "markdown",
   "id": "2c3d2cff-c094-46a6-aac5-43e30ce42e1b",
   "metadata": {},
   "source": [
    "![title](dataflow.png)"
   ]
  },
  {
   "cell_type": "markdown",
   "id": "5311355f-dbf4-4b37-9ff2-8f70492591b2",
   "metadata": {},
   "source": [
    "![title](dataflow1.png)"
   ]
  },
  {
   "cell_type": "markdown",
   "id": "8d4ab92a-61ff-46b4-a395-023e5062036d",
   "metadata": {},
   "source": [
    "## CODE"
   ]
  },
  {
   "cell_type": "code",
   "execution_count": 93,
   "id": "a0b11569-2f7a-4037-a350-30a82fe64d95",
   "metadata": {},
   "outputs": [],
   "source": [
    "import pickle \n",
    "import numpy as np "
   ]
  },
  {
   "cell_type": "code",
   "execution_count": 94,
   "id": "344cc0f9-4b78-449f-80e9-954aa506b182",
   "metadata": {},
   "outputs": [],
   "source": [
    "with open ('train_qa.txt', 'rb') as fp:\n",
    "    train_data = pickle.load(fp)"
   ]
  },
  {
   "cell_type": "code",
   "execution_count": 95,
   "id": "80de25aa-30f7-4f96-b1f3-525cb8767d9b",
   "metadata": {},
   "outputs": [],
   "source": [
    "with open ('test_qa.txt', 'rb') as fp:\n",
    "    test_data = pickle.load(fp)"
   ]
  },
  {
   "cell_type": "code",
   "execution_count": 2,
   "id": "1d079941-3d75-49e2-ad9a-4b0acfc9fc6c",
   "metadata": {
    "scrolled": true,
    "tags": []
   },
   "outputs": [],
   "source": [
    "import pandas as pd"
   ]
  },
  {
   "cell_type": "code",
   "execution_count": 4,
   "id": "04606750-22da-40db-b652-b5767d830e81",
   "metadata": {
    "scrolled": true,
    "tags": []
   },
   "outputs": [],
   "source": [
    "df = pd.read_pickle('test_qa.txt')"
   ]
  },
  {
   "cell_type": "code",
   "execution_count": 5,
   "id": "cad4ed0d-66c0-454f-a152-bddf9cda83d7",
   "metadata": {},
   "outputs": [],
   "source": [
    "df1 = pd.read_pickle('train_qa.txt')"
   ]
  },
  {
   "cell_type": "code",
   "execution_count": 101,
   "id": "80c44724-4d1f-40f5-a724-02127a954260",
   "metadata": {},
   "outputs": [
    {
     "data": {
      "text/plain": [
       "'Mary moved to the bathroom . Sandra journeyed to the bedroom .'"
      ]
     },
     "execution_count": 101,
     "metadata": {},
     "output_type": "execute_result"
    }
   ],
   "source": [
    "' '.join(train_data[0][0])"
   ]
  },
  {
   "cell_type": "code",
   "execution_count": 102,
   "id": "95b158ef-a98e-4320-8be5-01127e463d8f",
   "metadata": {},
   "outputs": [
    {
     "data": {
      "text/plain": [
       "'Mary got the milk there . John moved to the bedroom .'"
      ]
     },
     "execution_count": 102,
     "metadata": {},
     "output_type": "execute_result"
    }
   ],
   "source": [
    "' '.join(test_data[0][0])"
   ]
  },
  {
   "cell_type": "code",
   "execution_count": 103,
   "id": "4571feba-e7eb-4e28-b51e-39c808be15d8",
   "metadata": {},
   "outputs": [
    {
     "data": {
      "text/plain": [
       "list"
      ]
     },
     "execution_count": 103,
     "metadata": {},
     "output_type": "execute_result"
    }
   ],
   "source": [
    "type(test_data)"
   ]
  },
  {
   "cell_type": "code",
   "execution_count": 104,
   "id": "08ddbc02-91f2-48e2-a985-224312f3860d",
   "metadata": {},
   "outputs": [
    {
     "data": {
      "text/plain": [
       "list"
      ]
     },
     "execution_count": 104,
     "metadata": {},
     "output_type": "execute_result"
    }
   ],
   "source": [
    "type(train_data)"
   ]
  },
  {
   "cell_type": "code",
   "execution_count": 105,
   "id": "126b2b4e-06c1-4e14-9615-8c6a7ec09fa4",
   "metadata": {},
   "outputs": [
    {
     "data": {
      "text/plain": [
       "10000"
      ]
     },
     "execution_count": 105,
     "metadata": {},
     "output_type": "execute_result"
    }
   ],
   "source": [
    "len(train_data)"
   ]
  },
  {
   "cell_type": "code",
   "execution_count": 106,
   "id": "199a42e0-3ea3-4b02-843a-8302c9709b34",
   "metadata": {},
   "outputs": [
    {
     "data": {
      "text/plain": [
       "1000"
      ]
     },
     "execution_count": 106,
     "metadata": {},
     "output_type": "execute_result"
    }
   ],
   "source": [
    "len(test_data)"
   ]
  },
  {
   "cell_type": "code",
   "execution_count": 107,
   "id": "d87803e7-cf82-4641-932c-8c99fad9c13d",
   "metadata": {},
   "outputs": [],
   "source": [
    "# Vocabulary Assigning\n",
    "vocab = set()"
   ]
  },
  {
   "cell_type": "code",
   "execution_count": 108,
   "id": "bb1dc119-a9b8-4c60-917c-8f524aea811e",
   "metadata": {},
   "outputs": [],
   "source": [
    "all_data = test_data + train_data"
   ]
  },
  {
   "cell_type": "code",
   "execution_count": 109,
   "id": "611f9d53-3794-47ce-92ae-3db96bf62bc0",
   "metadata": {},
   "outputs": [
    {
     "data": {
      "text/plain": [
       "list"
      ]
     },
     "execution_count": 109,
     "metadata": {},
     "output_type": "execute_result"
    }
   ],
   "source": [
    "type(all_data)"
   ]
  },
  {
   "cell_type": "code",
   "execution_count": 111,
   "id": "8f5dd055-742c-4bb4-b7ae-46215447ef02",
   "metadata": {},
   "outputs": [],
   "source": [
    "# Add to Vocabulary\n",
    "for story, question, answer in all_data:\n",
    "    vocab = vocab.union(set(story))\n",
    "    vocab = vocab.union(set(question))"
   ]
  },
  {
   "cell_type": "code",
   "execution_count": 112,
   "id": "d03f72e2-bb1b-4357-8813-35c3748cb93b",
   "metadata": {},
   "outputs": [],
   "source": [
    "vocab.add('yes')\n",
    "vocab.add('no')"
   ]
  },
  {
   "cell_type": "code",
   "execution_count": 113,
   "id": "9cdf4a6c-9107-4183-8d76-d25ecd705f2e",
   "metadata": {
    "scrolled": true,
    "tags": []
   },
   "outputs": [
    {
     "data": {
      "text/plain": [
       "{'.',\n",
       " '?',\n",
       " 'Daniel',\n",
       " 'Is',\n",
       " 'John',\n",
       " 'Mary',\n",
       " 'Sandra',\n",
       " 'apple',\n",
       " 'back',\n",
       " 'bathroom',\n",
       " 'bedroom',\n",
       " 'discarded',\n",
       " 'down',\n",
       " 'dropped',\n",
       " 'football',\n",
       " 'garden',\n",
       " 'got',\n",
       " 'grabbed',\n",
       " 'hallway',\n",
       " 'in',\n",
       " 'journeyed',\n",
       " 'kitchen',\n",
       " 'left',\n",
       " 'milk',\n",
       " 'moved',\n",
       " 'no',\n",
       " 'office',\n",
       " 'picked',\n",
       " 'put',\n",
       " 'the',\n",
       " 'there',\n",
       " 'to',\n",
       " 'took',\n",
       " 'travelled',\n",
       " 'up',\n",
       " 'went',\n",
       " 'yes'}"
      ]
     },
     "execution_count": 113,
     "metadata": {},
     "output_type": "execute_result"
    }
   ],
   "source": [
    "vocab"
   ]
  },
  {
   "cell_type": "code",
   "execution_count": 114,
   "id": "8b9802f8-853b-448b-802d-2648c5bc4ee0",
   "metadata": {},
   "outputs": [
    {
     "data": {
      "text/plain": [
       "37"
      ]
     },
     "execution_count": 114,
     "metadata": {},
     "output_type": "execute_result"
    }
   ],
   "source": [
    "len(vocab)"
   ]
  },
  {
   "cell_type": "code",
   "execution_count": 115,
   "id": "138fab1a-bc1b-4d33-8d00-db173edbad56",
   "metadata": {},
   "outputs": [],
   "source": [
    "vocab_len = len(vocab) + 1"
   ]
  },
  {
   "cell_type": "code",
   "execution_count": 116,
   "id": "f0f40028-6ef1-45b8-9568-5ca64625b708",
   "metadata": {},
   "outputs": [
    {
     "data": {
      "text/plain": [
       "156"
      ]
     },
     "execution_count": 116,
     "metadata": {},
     "output_type": "execute_result"
    }
   ],
   "source": [
    "max_story_len = max([len(data[0]) for data in all_data])\n",
    "max_story_len"
   ]
  },
  {
   "cell_type": "code",
   "execution_count": 117,
   "id": "b043fc06-a026-4f2e-a7a5-c546cf36de4b",
   "metadata": {},
   "outputs": [
    {
     "data": {
      "text/plain": [
       "6"
      ]
     },
     "execution_count": 117,
     "metadata": {},
     "output_type": "execute_result"
    }
   ],
   "source": [
    "max_ques_len = max([len(data[1]) for data in all_data])\n",
    "max_ques_len"
   ]
  },
  {
   "cell_type": "code",
   "execution_count": 118,
   "id": "27a65d8a-5ce2-4e8d-9f94-56a4bb21fd8a",
   "metadata": {},
   "outputs": [],
   "source": [
    "# Import packages\n",
    "from tensorflow.keras.preprocessing.sequence import pad_sequences\n",
    "from keras.preprocessing.text import Tokenizer"
   ]
  },
  {
   "cell_type": "code",
   "execution_count": 119,
   "id": "9f97ac51-bbaf-4911-bd4c-32ce6c7f29c4",
   "metadata": {},
   "outputs": [],
   "source": [
    "tokenizer = Tokenizer(filters=[])"
   ]
  },
  {
   "cell_type": "code",
   "execution_count": 120,
   "id": "bf6d5fc9-e08c-4099-a6f4-4fa67b84f432",
   "metadata": {},
   "outputs": [],
   "source": [
    "tokenizer.fit_on_texts(vocab)"
   ]
  },
  {
   "cell_type": "code",
   "execution_count": 122,
   "id": "5580c212-fd67-4087-832a-1c9c354d57b3",
   "metadata": {
    "scrolled": true,
    "tags": []
   },
   "outputs": [
    {
     "data": {
      "text/plain": [
       "{'milk': 1,\n",
       " 'took': 2,\n",
       " 'bedroom': 3,\n",
       " 'got': 4,\n",
       " 'john': 5,\n",
       " 'apple': 6,\n",
       " 'back': 7,\n",
       " 'put': 8,\n",
       " 'to': 9,\n",
       " 'grabbed': 10,\n",
       " 'yes': 11,\n",
       " 'travelled': 12,\n",
       " 'garden': 13,\n",
       " 'down': 14,\n",
       " 'up': 15,\n",
       " 'there': 16,\n",
       " 'kitchen': 17,\n",
       " 'journeyed': 18,\n",
       " 'in': 19,\n",
       " 'is': 20,\n",
       " 'picked': 21,\n",
       " 'went': 22,\n",
       " 'mary': 23,\n",
       " 'daniel': 24,\n",
       " '?': 25,\n",
       " 'football': 26,\n",
       " 'sandra': 27,\n",
       " 'left': 28,\n",
       " 'no': 29,\n",
       " 'hallway': 30,\n",
       " 'dropped': 31,\n",
       " 'the': 32,\n",
       " 'office': 33,\n",
       " 'moved': 34,\n",
       " '.': 35,\n",
       " 'bathroom': 36,\n",
       " 'discarded': 37}"
      ]
     },
     "execution_count": 122,
     "metadata": {},
     "output_type": "execute_result"
    }
   ],
   "source": [
    "tokenizer.word_index"
   ]
  },
  {
   "cell_type": "code",
   "execution_count": 123,
   "id": "d408e7bc-ac21-4186-b116-7e253289480a",
   "metadata": {},
   "outputs": [],
   "source": [
    "# Training data split\n",
    "train_story_text = []\n",
    "train_question_text = []\n",
    "train_answers = []\n",
    "\n",
    "\n",
    "for story, question, answer in train_data:\n",
    "    train_story_text.append(story)\n",
    "    train_question_text.append(question)"
   ]
  },
  {
   "cell_type": "code",
   "execution_count": 124,
   "id": "1acba995-5988-4599-9c29-c8f8cba71219",
   "metadata": {},
   "outputs": [],
   "source": [
    "train_story_seq = tokenizer.texts_to_sequences(train_story_text)"
   ]
  },
  {
   "cell_type": "code",
   "execution_count": 125,
   "id": "bde70eec-0178-44ca-9e91-b2529f618f00",
   "metadata": {},
   "outputs": [
    {
     "data": {
      "text/plain": [
       "10000"
      ]
     },
     "execution_count": 125,
     "metadata": {},
     "output_type": "execute_result"
    }
   ],
   "source": [
    "len(train_story_text)"
   ]
  },
  {
   "cell_type": "code",
   "execution_count": 126,
   "id": "d2785dec-85e6-43cf-976f-68048403769d",
   "metadata": {},
   "outputs": [
    {
     "data": {
      "text/plain": [
       "10000"
      ]
     },
     "execution_count": 126,
     "metadata": {},
     "output_type": "execute_result"
    }
   ],
   "source": [
    "len(train_story_seq)"
   ]
  },
  {
   "cell_type": "code",
   "execution_count": 127,
   "id": "3ee320ae-46b5-4330-9563-44c37a3e5903",
   "metadata": {},
   "outputs": [],
   "source": [
    "def vectorize_stories(data, word_index = tokenizer.word_index,\n",
    "                     max_story_len = max_story_len, max_ques_len = max_ques_len):\n",
    "\n",
    "    X = [] #Stories\n",
    "    Xq = [] #Query/Question\n",
    "    Y = [] #correct answer\n",
    "\n",
    "    for story, query, answer in data:\n",
    "        x = [word_index[word.lower()] for word in story]\n",
    "        xq = [word_index[word.lower()] for word in query]\n",
    "        y = np.zeros(len(word_index) + 1)\n",
    "        y[word_index[answer]] = 1\n",
    "\n",
    "\n",
    "        X.append(x)\n",
    "        Xq.append(xq)\n",
    "        Y.append(y)\n",
    "        \n",
    "        # print (Y)\n",
    "        \n",
    "    return(pad_sequences(X, maxlen= max_story_len) ,\n",
    "          pad_sequences(Xq, maxlen= max_ques_len) ,\n",
    "          np.array(Y))"
   ]
  },
  {
   "cell_type": "code",
   "execution_count": 128,
   "id": "ded08681-1d2d-4717-8e96-a1dc593e4b7b",
   "metadata": {},
   "outputs": [],
   "source": [
    "inputs_train, queries_train, answers_train = vectorize_stories(train_data)"
   ]
  },
  {
   "cell_type": "code",
   "execution_count": 129,
   "id": "a358409c-2533-4b9a-b26d-5d567f410f49",
   "metadata": {},
   "outputs": [],
   "source": [
    "inputs_train, queries_train, answers_train = vectorize_stories(train_data)"
   ]
  },
  {
   "cell_type": "code",
   "execution_count": 130,
   "id": "d80b5144-6dec-465b-a1ff-eac573e8517d",
   "metadata": {},
   "outputs": [],
   "source": [
    "inputs_test, queries_test, answers_test = vectorize_stories(test_data)"
   ]
  },
  {
   "cell_type": "code",
   "execution_count": 131,
   "id": "004994cc-716e-438e-b0e0-608d2667e866",
   "metadata": {},
   "outputs": [
    {
     "data": {
      "text/plain": [
       "array([[ 0,  0,  0, ..., 32,  3, 35],\n",
       "       [ 0,  0,  0, ..., 32, 13, 35],\n",
       "       [ 0,  0,  0, ..., 32, 13, 35],\n",
       "       ...,\n",
       "       [ 0,  0,  0, ..., 32,  6, 35],\n",
       "       [ 0,  0,  0, ..., 32, 13, 35],\n",
       "       [ 0,  0,  0, ...,  6, 16, 35]])"
      ]
     },
     "execution_count": 131,
     "metadata": {},
     "output_type": "execute_result"
    }
   ],
   "source": [
    "inputs_test"
   ]
  },
  {
   "cell_type": "code",
   "execution_count": 132,
   "id": "94cc821b-d854-4769-b754-1616573cb78f",
   "metadata": {},
   "outputs": [
    {
     "data": {
      "text/plain": [
       "array([[ 0,  0,  0, ..., 32,  3, 35],\n",
       "       [ 0,  0,  0, ..., 32, 30, 35],\n",
       "       [ 0,  0,  0, ..., 32, 36, 35],\n",
       "       ...,\n",
       "       [ 0,  0,  0, ..., 32,  3, 35],\n",
       "       [ 0,  0,  0, ...,  1, 16, 35],\n",
       "       [ 0,  0,  0, ...,  6, 16, 35]])"
      ]
     },
     "execution_count": 132,
     "metadata": {},
     "output_type": "execute_result"
    }
   ],
   "source": [
    "inputs_train"
   ]
  },
  {
   "cell_type": "code",
   "execution_count": 133,
   "id": "1f9875e6-b48c-4962-9f95-bc970cc8ad51",
   "metadata": {},
   "outputs": [
    {
     "data": {
      "text/plain": [
       "array([[20,  5, 19, 32, 17, 25],\n",
       "       [20,  5, 19, 32, 17, 25],\n",
       "       [20,  5, 19, 32, 13, 25],\n",
       "       ...,\n",
       "       [20, 23, 19, 32,  3, 25],\n",
       "       [20, 27, 19, 32, 13, 25],\n",
       "       [20, 23, 19, 32, 13, 25]])"
      ]
     },
     "execution_count": 133,
     "metadata": {},
     "output_type": "execute_result"
    }
   ],
   "source": [
    "queries_test"
   ]
  },
  {
   "cell_type": "code",
   "execution_count": 134,
   "id": "eaba6e76-6250-41d5-a8e8-38033b73da2b",
   "metadata": {},
   "outputs": [
    {
     "data": {
      "text/plain": [
       "array([[20, 27, 19, 32, 30, 25],\n",
       "       [20, 24, 19, 32, 36, 25],\n",
       "       [20, 24, 19, 32, 33, 25],\n",
       "       ...,\n",
       "       [20, 27, 19, 32, 30, 25],\n",
       "       [20, 23, 19, 32, 17, 25],\n",
       "       [20, 23, 19, 32,  3, 25]])"
      ]
     },
     "execution_count": 134,
     "metadata": {},
     "output_type": "execute_result"
    }
   ],
   "source": [
    "queries_train"
   ]
  },
  {
   "cell_type": "code",
   "execution_count": 135,
   "id": "644450f7-c3fe-4a28-96d3-fa311e17a6b0",
   "metadata": {},
   "outputs": [
    {
     "data": {
      "text/plain": [
       "array([[0., 0., 0., ..., 0., 0., 0.],\n",
       "       [0., 0., 0., ..., 0., 0., 0.],\n",
       "       [0., 0., 0., ..., 0., 0., 0.],\n",
       "       ...,\n",
       "       [0., 0., 0., ..., 0., 0., 0.],\n",
       "       [0., 0., 0., ..., 0., 0., 0.],\n",
       "       [0., 0., 0., ..., 0., 0., 0.]])"
      ]
     },
     "execution_count": 135,
     "metadata": {},
     "output_type": "execute_result"
    }
   ],
   "source": [
    "answers_test"
   ]
  },
  {
   "cell_type": "code",
   "execution_count": 136,
   "id": "f12bfed6-5878-40d0-a640-3ea00c0a3711",
   "metadata": {},
   "outputs": [
    {
     "data": {
      "text/plain": [
       "array([[0., 0., 0., ..., 0., 0., 0.],\n",
       "       [0., 0., 0., ..., 0., 0., 0.],\n",
       "       [0., 0., 0., ..., 0., 0., 0.],\n",
       "       ...,\n",
       "       [0., 0., 0., ..., 0., 0., 0.],\n",
       "       [0., 0., 0., ..., 0., 0., 0.],\n",
       "       [0., 0., 0., ..., 0., 0., 0.]])"
      ]
     },
     "execution_count": 136,
     "metadata": {},
     "output_type": "execute_result"
    }
   ],
   "source": [
    "answers_train"
   ]
  },
  {
   "cell_type": "code",
   "execution_count": 137,
   "id": "2467c8ec-c856-48cb-abf7-3a3cf0ec08c4",
   "metadata": {},
   "outputs": [
    {
     "data": {
      "text/plain": [
       "11"
      ]
     },
     "execution_count": 137,
     "metadata": {},
     "output_type": "execute_result"
    }
   ],
   "source": [
    "tokenizer.word_index['yes']"
   ]
  },
  {
   "cell_type": "code",
   "execution_count": 138,
   "id": "d70142bc-fb0a-470b-b566-43dcaec65358",
   "metadata": {},
   "outputs": [
    {
     "data": {
      "text/plain": [
       "29"
      ]
     },
     "execution_count": 138,
     "metadata": {},
     "output_type": "execute_result"
    }
   ],
   "source": [
    "tokenizer.word_index['no']"
   ]
  },
  {
   "cell_type": "code",
   "execution_count": 139,
   "id": "4a52e7ae-a8c2-44da-9f9b-836303d735c4",
   "metadata": {},
   "outputs": [],
   "source": [
    "# Import Models\n",
    "from keras.models import Sequential, Model\n",
    "from keras.layers import Embedding\n",
    "from keras.layers import Input, Activation, Dense, Permute, Dropout, add, dot, concatenate, LSTM"
   ]
  },
  {
   "cell_type": "code",
   "execution_count": 140,
   "id": "079722f4-9ec2-4121-9c07-5e6ad77f0c2b",
   "metadata": {},
   "outputs": [],
   "source": [
    "input_sequence = Input((max_story_len,))\n",
    "question = Input((max_ques_len,))"
   ]
  },
  {
   "cell_type": "code",
   "execution_count": 141,
   "id": "2a57768b-18b2-4e59-b1cd-e488c0b8512f",
   "metadata": {},
   "outputs": [],
   "source": [
    "# input encoder m\n",
    "input_encoder_m = Sequential()\n",
    "input_encoder_m.add(Embedding(input_dim= vocab_len, output_dim= 64))\n",
    "input_encoder_m.add(Dropout(0.3))"
   ]
  },
  {
   "cell_type": "code",
   "execution_count": 142,
   "id": "da5d0e99-a53a-42f4-89b5-a3d20c46f96f",
   "metadata": {},
   "outputs": [],
   "source": [
    "# input_encoder_c\n",
    "input_encoder_c = Sequential()\n",
    "input_encoder_c.add(Embedding(input_dim= vocab_len, output_dim= max_ques_len))\n",
    "input_encoder_c.add(Dropout(0.3))"
   ]
  },
  {
   "cell_type": "code",
   "execution_count": 143,
   "id": "1a91f507-e88c-41c8-9882-ac9845acb716",
   "metadata": {},
   "outputs": [],
   "source": [
    "# question_encoder\n",
    "question_encoder = Sequential()\n",
    "question_encoder.add(Embedding(input_dim= vocab_len, output_dim= 64, input_length= max_ques_len))\n",
    "question_encoder.add(Dropout(0.3))"
   ]
  },
  {
   "cell_type": "code",
   "execution_count": 144,
   "id": "89a8d9fb-3e71-4c62-9aa3-f2580429632c",
   "metadata": {},
   "outputs": [],
   "source": [
    "# question_encoder\n",
    "question_encoder = Sequential()\n",
    "question_encoder.add(Embedding(input_dim= vocab_len, output_dim= 64, input_length= max_ques_len))\n",
    "question_encoder.add(Dropout(0.3))"
   ]
  },
  {
   "cell_type": "code",
   "execution_count": 145,
   "id": "f6f3a51d-d80b-4ef6-beb9-080af5cc3d95",
   "metadata": {},
   "outputs": [],
   "source": [
    "# Encode the sequences \n",
    "\n",
    "input_encoded_m = input_encoder_m(input_sequence)\n",
    "\n",
    "input_encoded_c = input_encoder_c(input_sequence)\n",
    "\n",
    "question_encoded = question_encoder(question)"
   ]
  },
  {
   "cell_type": "code",
   "execution_count": 146,
   "id": "f22e39c9-7bd4-4fab-8e44-5d9e82235da7",
   "metadata": {},
   "outputs": [
    {
     "data": {
      "text/plain": [
       "<KerasTensor: shape=(156, 64) dtype=float32 (created by layer 'tf.__operators__.getitem_1')>"
      ]
     },
     "execution_count": 146,
     "metadata": {},
     "output_type": "execute_result"
    }
   ],
   "source": [
    "input_encoded_m[0]"
   ]
  },
  {
   "cell_type": "code",
   "execution_count": 147,
   "id": "4fbb14f2-6697-4a06-b99d-7cbc1053e801",
   "metadata": {},
   "outputs": [],
   "source": [
    "match = dot([input_encoded_m, question_encoded], axes= (2,2))\n",
    "match = Activation('softmax')(match)"
   ]
  },
  {
   "cell_type": "code",
   "execution_count": 148,
   "id": "0e36bf04-e454-44bc-b547-e84d0e14468e",
   "metadata": {},
   "outputs": [],
   "source": [
    "response = add([match, input_encoded_c])\n",
    "response = Permute((2,1))(response)"
   ]
  },
  {
   "cell_type": "code",
   "execution_count": 149,
   "id": "81e0400d-4270-45af-9613-27130b1e8b26",
   "metadata": {},
   "outputs": [],
   "source": [
    "#Concatenate \n",
    "answer = concatenate([response, question_encoded])"
   ]
  },
  {
   "cell_type": "code",
   "execution_count": 150,
   "id": "bc45bf68-d5eb-42e9-ab65-11329f4b12d3",
   "metadata": {},
   "outputs": [],
   "source": [
    "answer = LSTM(32)(answer)"
   ]
  },
  {
   "cell_type": "code",
   "execution_count": 151,
   "id": "4f1a0031-5117-4171-aa53-bf528c5a5a2a",
   "metadata": {},
   "outputs": [],
   "source": [
    "#regularise with the dropout\n",
    "answer = Dropout(0.5)(answer)\n",
    "answer = Dense(vocab_len)(answer)"
   ]
  },
  {
   "cell_type": "code",
   "execution_count": 152,
   "id": "af80bc3f-0b5d-4f29-a7fe-3c4abd7bfca0",
   "metadata": {},
   "outputs": [],
   "source": [
    "answer = Activation('softmax')(answer)"
   ]
  },
  {
   "cell_type": "code",
   "execution_count": 153,
   "id": "e82e63bd-1fad-45e8-9de6-b40e249c8df9",
   "metadata": {},
   "outputs": [],
   "source": [
    "model = Model([input_sequence, question], answer)\n",
    "model.compile(optimizer= 'rmsprop', loss= 'categorical_crossentropy', metrics= ['accuracy'])"
   ]
  },
  {
   "cell_type": "code",
   "execution_count": 154,
   "id": "72b17cf2-9228-4638-8398-29f5e405f688",
   "metadata": {},
   "outputs": [
    {
     "name": "stdout",
     "output_type": "stream",
     "text": [
      "Model: \"model_1\"\n",
      "__________________________________________________________________________________________________\n",
      " Layer (type)                   Output Shape         Param #     Connected to                     \n",
      "==================================================================================================\n",
      " input_3 (InputLayer)           [(None, 156)]        0           []                               \n",
      "                                                                                                  \n",
      " input_4 (InputLayer)           [(None, 6)]          0           []                               \n",
      "                                                                                                  \n",
      " sequential_4 (Sequential)      (None, None, 64)     2432        ['input_3[0][0]']                \n",
      "                                                                                                  \n",
      " sequential_7 (Sequential)      (None, 6, 64)        2432        ['input_4[0][0]']                \n",
      "                                                                                                  \n",
      " dot_1 (Dot)                    (None, 156, 6)       0           ['sequential_4[0][0]',           \n",
      "                                                                  'sequential_7[0][0]']           \n",
      "                                                                                                  \n",
      " activation_2 (Activation)      (None, 156, 6)       0           ['dot_1[0][0]']                  \n",
      "                                                                                                  \n",
      " sequential_5 (Sequential)      (None, None, 6)      228         ['input_3[0][0]']                \n",
      "                                                                                                  \n",
      " add_1 (Add)                    (None, 156, 6)       0           ['activation_2[0][0]',           \n",
      "                                                                  'sequential_5[0][0]']           \n",
      "                                                                                                  \n",
      " permute_1 (Permute)            (None, 6, 156)       0           ['add_1[0][0]']                  \n",
      "                                                                                                  \n",
      " concatenate_1 (Concatenate)    (None, 6, 220)       0           ['permute_1[0][0]',              \n",
      "                                                                  'sequential_7[0][0]']           \n",
      "                                                                                                  \n",
      " lstm_1 (LSTM)                  (None, 32)           32384       ['concatenate_1[0][0]']          \n",
      "                                                                                                  \n",
      " dropout_9 (Dropout)            (None, 32)           0           ['lstm_1[0][0]']                 \n",
      "                                                                                                  \n",
      " dense_1 (Dense)                (None, 38)           1254        ['dropout_9[0][0]']              \n",
      "                                                                                                  \n",
      " activation_3 (Activation)      (None, 38)           0           ['dense_1[0][0]']                \n",
      "                                                                                                  \n",
      "==================================================================================================\n",
      "Total params: 38,730\n",
      "Trainable params: 38,730\n",
      "Non-trainable params: 0\n",
      "__________________________________________________________________________________________________\n"
     ]
    }
   ],
   "source": [
    "model.summary()"
   ]
  },
  {
   "cell_type": "code",
   "execution_count": 155,
   "id": "3dd439ce-a85f-454e-985c-0920a15ed171",
   "metadata": {},
   "outputs": [
    {
     "name": "stdout",
     "output_type": "stream",
     "text": [
      "Epoch 1/20\n",
      "313/313 [==============================] - 9s 20ms/step - loss: 0.8700 - accuracy: 0.5000 - val_loss: 0.6951 - val_accuracy: 0.4970\n",
      "Epoch 2/20\n",
      "313/313 [==============================] - 5s 17ms/step - loss: 0.7046 - accuracy: 0.5025 - val_loss: 0.6949 - val_accuracy: 0.4970\n",
      "Epoch 3/20\n",
      "313/313 [==============================] - 5s 17ms/step - loss: 0.6985 - accuracy: 0.4965 - val_loss: 0.6961 - val_accuracy: 0.4970\n",
      "Epoch 4/20\n",
      "313/313 [==============================] - 6s 18ms/step - loss: 0.6961 - accuracy: 0.5094 - val_loss: 0.6937 - val_accuracy: 0.5030\n",
      "Epoch 5/20\n",
      "313/313 [==============================] - 6s 21ms/step - loss: 0.6951 - accuracy: 0.5056 - val_loss: 0.6969 - val_accuracy: 0.4970\n",
      "Epoch 6/20\n",
      "313/313 [==============================] - 6s 20ms/step - loss: 0.6957 - accuracy: 0.5028 - val_loss: 0.6939 - val_accuracy: 0.5030\n",
      "Epoch 7/20\n",
      "313/313 [==============================] - 6s 19ms/step - loss: 0.6956 - accuracy: 0.5005 - val_loss: 0.6940 - val_accuracy: 0.5030\n",
      "Epoch 8/20\n",
      "313/313 [==============================] - 6s 20ms/step - loss: 0.6955 - accuracy: 0.4989 - val_loss: 0.6940 - val_accuracy: 0.5030\n",
      "Epoch 9/20\n",
      "313/313 [==============================] - 5s 17ms/step - loss: 0.6955 - accuracy: 0.4985 - val_loss: 0.6937 - val_accuracy: 0.4970\n",
      "Epoch 10/20\n",
      "313/313 [==============================] - 7s 21ms/step - loss: 0.6951 - accuracy: 0.5020 - val_loss: 0.6933 - val_accuracy: 0.5030\n",
      "Epoch 11/20\n",
      "313/313 [==============================] - 6s 18ms/step - loss: 0.6950 - accuracy: 0.4963 - val_loss: 0.6945 - val_accuracy: 0.4970\n",
      "Epoch 12/20\n",
      "313/313 [==============================] - 6s 18ms/step - loss: 0.6952 - accuracy: 0.5028 - val_loss: 0.6932 - val_accuracy: 0.4970\n",
      "Epoch 13/20\n",
      "313/313 [==============================] - 5s 17ms/step - loss: 0.6953 - accuracy: 0.5020 - val_loss: 0.6935 - val_accuracy: 0.5030\n",
      "Epoch 14/20\n",
      "313/313 [==============================] - 6s 20ms/step - loss: 0.6951 - accuracy: 0.4996 - val_loss: 0.6939 - val_accuracy: 0.5030\n",
      "Epoch 15/20\n",
      "313/313 [==============================] - 6s 19ms/step - loss: 0.6950 - accuracy: 0.4992 - val_loss: 0.6947 - val_accuracy: 0.5030\n",
      "Epoch 16/20\n",
      "313/313 [==============================] - 6s 19ms/step - loss: 0.6951 - accuracy: 0.4953 - val_loss: 0.6980 - val_accuracy: 0.4970\n",
      "Epoch 17/20\n",
      "313/313 [==============================] - 6s 20ms/step - loss: 0.6952 - accuracy: 0.4988 - val_loss: 0.6933 - val_accuracy: 0.4970\n",
      "Epoch 18/20\n",
      "313/313 [==============================] - 7s 21ms/step - loss: 0.6951 - accuracy: 0.4976 - val_loss: 0.6946 - val_accuracy: 0.4970\n",
      "Epoch 19/20\n",
      "313/313 [==============================] - 6s 20ms/step - loss: 0.6954 - accuracy: 0.4940 - val_loss: 0.6953 - val_accuracy: 0.4970\n",
      "Epoch 20/20\n",
      "313/313 [==============================] - 6s 18ms/step - loss: 0.6952 - accuracy: 0.4965 - val_loss: 0.6932 - val_accuracy: 0.5030\n"
     ]
    }
   ],
   "source": [
    "history = model.fit([inputs_train, queries_train], answers_train,\n",
    "                    batch_size = 32, epochs = 20, validation_data = ([inputs_test, queries_test], answers_test)\n",
    "                    )"
   ]
  },
  {
   "cell_type": "code",
   "execution_count": 180,
   "id": "f0cb7de1-9abe-466a-ba0a-934bbe0d63b8",
   "metadata": {},
   "outputs": [
    {
     "name": "stdout",
     "output_type": "stream",
     "text": [
      "dict_keys(['loss', 'accuracy', 'val_loss', 'val_accuracy'])\n"
     ]
    },
    {
     "data": {
      "text/plain": [
       "Text(0.5, 0, 'epochs')"
      ]
     },
     "execution_count": 180,
     "metadata": {},
     "output_type": "execute_result"
    },
    {
     "data": {
      "image/png": "[encoded data removed]",
      "text/plain": [
       "<Figure size 640x480 with 1 Axes>"
      ]
     },
     "metadata": {},
     "output_type": "display_data"
    }
   ],
   "source": [
    "import matplotlib.pyplot as plt\n",
    "print(history.history.keys())\n",
    "plt.plot(history.history['accuracy'])\n",
    "\n",
    "plt.plot(history.history['val_accuracy'])\n",
    "plt.title('Model Accuracy')\n",
    "plt.ylabel('Accuracy')\n",
    "plt.xlabel('epochs')\n"
   ]
  },
  {
   "cell_type": "code",
   "execution_count": 181,
   "id": "bff0525a-061c-4e40-9ddc-e65f2491fc9c",
   "metadata": {},
   "outputs": [
    {
     "name": "stderr",
     "output_type": "stream",
     "text": [
      "WARNING:absl:Found untraced functions such as _update_step_xla, lstm_cell_1_layer_call_fn, lstm_cell_1_layer_call_and_return_conditional_losses while saving (showing 3 of 3). These functions will not be directly callable after loading.\n"
     ]
    },
    {
     "name": "stdout",
     "output_type": "stream",
     "text": [
      "INFO:tensorflow:Assets written to: chatbot model\\assets\n"
     ]
    },
    {
     "name": "stderr",
     "output_type": "stream",
     "text": [
      "INFO:tensorflow:Assets written to: chatbot model\\assets\n"
     ]
    }
   ],
   "source": [
    "#save the model\n",
    "model.save('chatbot model')"
   ]
  },
  {
   "cell_type": "code",
   "execution_count": 182,
   "id": "4ca5a4d4-1a6b-4cb7-84e3-d3990b42151f",
   "metadata": {},
   "outputs": [
    {
     "data": {
      "text/plain": [
       "<tensorflow.python.checkpoint.checkpoint.CheckpointLoadStatus at 0x1bf462041f0>"
      ]
     },
     "execution_count": 182,
     "metadata": {},
     "output_type": "execute_result"
    }
   ],
   "source": [
    "#Evaluation on the testset \n",
    "model.load_weights('chatbot model')"
   ]
  },
  {
   "cell_type": "code",
   "execution_count": 183,
   "id": "d652c470-325a-414a-a554-c20e7751a82b",
   "metadata": {},
   "outputs": [
    {
     "name": "stdout",
     "output_type": "stream",
     "text": [
      "32/32 [==============================] - 0s 6ms/step\n"
     ]
    }
   ],
   "source": [
    "pred_results = model.predict([inputs_test, queries_test])"
   ]
  },
  {
   "cell_type": "code",
   "execution_count": 184,
   "id": "4b374d66-cccb-467b-97ea-1d6d6d1bdec0",
   "metadata": {},
   "outputs": [
    {
     "data": {
      "text/plain": [
       "['Mary',\n",
       " 'got',\n",
       " 'the',\n",
       " 'milk',\n",
       " 'there',\n",
       " '.',\n",
       " 'John',\n",
       " 'moved',\n",
       " 'to',\n",
       " 'the',\n",
       " 'bedroom',\n",
       " '.']"
      ]
     },
     "execution_count": 184,
     "metadata": {},
     "output_type": "execute_result"
    }
   ],
   "source": [
    "test_data[0][0]"
   ]
  },
  {
   "cell_type": "code",
   "execution_count": 185,
   "id": "08dd1d77-9720-4534-af92-9c85a7bec991",
   "metadata": {},
   "outputs": [],
   "source": [
    "story = ' '.join(word for word in test_data[10][0])"
   ]
  },
  {
   "cell_type": "code",
   "execution_count": 186,
   "id": "4816ac51-5035-44d8-95b4-74aba116adcb",
   "metadata": {},
   "outputs": [
    {
     "data": {
      "text/plain": [
       "'John moved to the hallway . Sandra went to the bedroom .'"
      ]
     },
     "execution_count": 186,
     "metadata": {},
     "output_type": "execute_result"
    }
   ],
   "source": [
    "story"
   ]
  },
  {
   "cell_type": "code",
   "execution_count": 187,
   "id": "0ee74420-a91c-4ab1-8383-d44fa3e7e0f9",
   "metadata": {},
   "outputs": [],
   "source": [
    "query  = ' '.join(word for word in test_data[10][1])"
   ]
  },
  {
   "cell_type": "code",
   "execution_count": 188,
   "id": "ee672435-4ae8-4e81-9e2f-906c61701998",
   "metadata": {},
   "outputs": [
    {
     "data": {
      "text/plain": [
       "'Is John in the hallway ?'"
      ]
     },
     "execution_count": 188,
     "metadata": {},
     "output_type": "execute_result"
    }
   ],
   "source": [
    "query"
   ]
  },
  {
   "cell_type": "code",
   "execution_count": 189,
   "id": "ee770801-b4ec-4a7d-b399-4a7ab8c99d6b",
   "metadata": {},
   "outputs": [
    {
     "data": {
      "text/plain": [
       "'yes'"
      ]
     },
     "execution_count": 189,
     "metadata": {},
     "output_type": "execute_result"
    }
   ],
   "source": [
    "test_data[10][2]"
   ]
  },
  {
   "cell_type": "code",
   "execution_count": 190,
   "id": "5638d13b-b6a4-4d2c-bba3-b2c01b804e14",
   "metadata": {},
   "outputs": [
    {
     "data": {
      "text/plain": [
       "['Is', 'John', 'in', 'the', 'hallway', '?']"
      ]
     },
     "execution_count": 190,
     "metadata": {},
     "output_type": "execute_result"
    }
   ],
   "source": [
    "test_data[10][1]"
   ]
  },
  {
   "cell_type": "code",
   "execution_count": 191,
   "id": "06bc9f01-6960-4aaf-a2aa-9ecb9b4b57e7",
   "metadata": {},
   "outputs": [
    {
     "name": "stdout",
     "output_type": "stream",
     "text": [
      "Predicted answer is no\n",
      "Probability of certainity  0.5092362\n"
     ]
    }
   ],
   "source": [
    "val_max = np.argmax(pred_results[13])\n",
    "\n",
    "for key, val in tokenizer.word_index.items():\n",
    "    if val == val_max:\n",
    "        k = key\n",
    "\n",
    "print('Predicted answer is', k)\n",
    "print('Probability of certainity ', pred_results[13][val_max])"
   ]
  },
  {
   "cell_type": "code",
   "execution_count": 192,
   "id": "b8a0f759-be5f-4a72-b1c8-171a17a584fe",
   "metadata": {},
   "outputs": [
    {
     "data": {
      "text/plain": [
       "{'.',\n",
       " '?',\n",
       " 'Daniel',\n",
       " 'Is',\n",
       " 'John',\n",
       " 'Mary',\n",
       " 'Sandra',\n",
       " 'apple',\n",
       " 'back',\n",
       " 'bathroom',\n",
       " 'bedroom',\n",
       " 'discarded',\n",
       " 'down',\n",
       " 'dropped',\n",
       " 'football',\n",
       " 'garden',\n",
       " 'got',\n",
       " 'grabbed',\n",
       " 'hallway',\n",
       " 'in',\n",
       " 'journeyed',\n",
       " 'kitchen',\n",
       " 'left',\n",
       " 'milk',\n",
       " 'moved',\n",
       " 'no',\n",
       " 'office',\n",
       " 'picked',\n",
       " 'put',\n",
       " 'the',\n",
       " 'there',\n",
       " 'to',\n",
       " 'took',\n",
       " 'travelled',\n",
       " 'up',\n",
       " 'went',\n",
       " 'yes'}"
      ]
     },
     "execution_count": 192,
     "metadata": {},
     "output_type": "execute_result"
    }
   ],
   "source": [
    "vocab"
   ]
  },
  {
   "cell_type": "code",
   "execution_count": 193,
   "id": "a4fbc5b7-dc6b-4e36-9bb0-b44c4df55cfd",
   "metadata": {},
   "outputs": [
    {
     "data": {
      "text/plain": [
       "['Mary',\n",
       " 'dropped',\n",
       " 'the',\n",
       " 'football',\n",
       " '.',\n",
       " 'Sandra',\n",
       " 'discarded',\n",
       " 'apple',\n",
       " 'in',\n",
       " 'kitchen']"
      ]
     },
     "execution_count": 193,
     "metadata": {},
     "output_type": "execute_result"
    }
   ],
   "source": [
    "story = 'Mary dropped the football . Sandra discarded apple in kitchen '\n",
    "story.split()"
   ]
  },
  {
   "cell_type": "code",
   "execution_count": 194,
   "id": "a12291bd-d2d0-4cdc-b51d-e94444ea370e",
   "metadata": {},
   "outputs": [],
   "source": [
    "my_question = 'Is apple in the kitchen'"
   ]
  },
  {
   "cell_type": "code",
   "execution_count": 195,
   "id": "16b78948-3ca3-4715-b4c5-69c6c8f7f0ed",
   "metadata": {},
   "outputs": [
    {
     "data": {
      "text/plain": [
       "['Is', 'apple', 'in', 'the', 'kitchen']"
      ]
     },
     "execution_count": 195,
     "metadata": {},
     "output_type": "execute_result"
    }
   ],
   "source": [
    "my_question.split()"
   ]
  },
  {
   "cell_type": "code",
   "execution_count": 196,
   "id": "476280c8-ab01-4774-b396-61938aaba764",
   "metadata": {},
   "outputs": [],
   "source": [
    "mydata = [(story.split(), my_question.split(), 'yes')]"
   ]
  },
  {
   "cell_type": "code",
   "execution_count": 197,
   "id": "5ade071f-5a69-4c3d-beb5-ae8efe7712e6",
   "metadata": {},
   "outputs": [
    {
     "data": {
      "text/plain": [
       "[(['Mary',\n",
       "   'dropped',\n",
       "   'the',\n",
       "   'football',\n",
       "   '.',\n",
       "   'Sandra',\n",
       "   'discarded',\n",
       "   'apple',\n",
       "   'in',\n",
       "   'kitchen'],\n",
       "  ['Is', 'apple', 'in', 'the', 'kitchen'],\n",
       "  'yes')]"
      ]
     },
     "execution_count": 197,
     "metadata": {},
     "output_type": "execute_result"
    }
   ],
   "source": [
    "mydata"
   ]
  },
  {
   "cell_type": "code",
   "execution_count": 198,
   "id": "275be488-63d8-4e37-95a5-6d1113b04227",
   "metadata": {},
   "outputs": [],
   "source": [
    "my_story, my_ques, my_ans = vectorize_stories(mydata)"
   ]
  },
  {
   "cell_type": "code",
   "execution_count": 199,
   "id": "8af19c38-60c6-4381-aaee-91ef874f263f",
   "metadata": {},
   "outputs": [
    {
     "name": "stdout",
     "output_type": "stream",
     "text": [
      "1/1 [==============================] - 0s 37ms/step\n"
     ]
    }
   ],
   "source": [
    "pred_results = model.predict(([my_story,my_ques]))"
   ]
  },
  {
   "cell_type": "code",
   "execution_count": 200,
   "id": "dc24ed34-fb6c-4b65-b1ae-dc6041e749dd",
   "metadata": {},
   "outputs": [
    {
     "name": "stdout",
     "output_type": "stream",
     "text": [
      "Predicted answer is no\n",
      "Probability of certainity  0.508674\n"
     ]
    }
   ],
   "source": [
    "val_max = np.argmax(pred_results[0])\n",
    "\n",
    "for key, val in tokenizer.word_index.items():\n",
    "    if val == val_max:\n",
    "        k = key\n",
    "\n",
    "print('Predicted answer is', k)\n",
    "print('Probability of certainity ', pred_results[0][val_max])"
   ]
  },
  {
   "cell_type": "code",
   "execution_count": null,
   "id": "bca5ba2a-23e9-4666-96d3-6f61516a0255",
   "metadata": {},
   "outputs": [],
   "source": []
  },
  {
   "cell_type": "code",
   "execution_count": null,
   "id": "722f7b60-da0f-4681-81c0-b6c9b04c3da6",
   "metadata": {},
   "outputs": [],
   "source": []
  }
 ],
 "metadata": {
  "kernelspec": {
   "display_name": "Python 3 (ipykernel)",
   "language": "python",
   "name": "python3"
  },
  "language_info": {
   "codemirror_mode": {
    "name": "ipython",
    "version": 3
   },
   "file_extension": ".py",
   "mimetype": "text/x-python",
   "name": "python",
   "nbconvert_exporter": "python",
   "pygments_lexer": "ipython3",
   "version": "3.10.9"
  }
 },
 "nbformat": 4,
 "nbformat_minor": 5
}
